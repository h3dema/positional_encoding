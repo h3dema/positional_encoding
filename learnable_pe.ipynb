{
 "cells": [
  {
   "cell_type": "code",
   "execution_count": 1,
   "metadata": {},
   "outputs": [],
   "source": [
    "%load_ext autoreload\n",
    "%autoreload 2"
   ]
  },
  {
   "cell_type": "code",
   "execution_count": 2,
   "metadata": {},
   "outputs": [],
   "source": [
    "import torch\n",
    "from torch import nn\n",
    "\n",
    "import matplotlib.pyplot as plt"
   ]
  },
  {
   "cell_type": "code",
   "execution_count": null,
   "metadata": {},
   "outputs": [],
   "source": [
    "class LearnablePositionalEncoding(nn.Module):\n",
    "\n",
    "    def __init__(self, d_model, max_len=5000, dropout=0.1):\n",
    "        super().__init__()\n",
    "        self.position_embeddings = nn.Embedding(max_len, d_model)\n",
    "        self.dropout = nn.Dropout(p=dropout)\n",
    "        self.register_buffer(\"positions\", torch.arange(max_len).unsqueeze(0))  # Shape: (1, max_len)\n",
    "\n",
    "    def forward(self, x):\n",
    "        # x has shape (batch_size, seq_len, d_model)\n",
    "        # it is the token embeddings\n",
    "        pos_emb = self.position_embeddings(self.positions[:, :x.shape[1]])\n",
    "        return self.dropout(x + pos_emb)"
   ]
  },
  {
   "cell_type": "markdown",
   "metadata": {},
   "source": [
    "- A learnable positional encoding allows the model to learn the best positional representations during training\n",
    "- Dropout helps prevent overfitting by randomly zeroing out some position encodings and improves generalization to unseen sequences."
   ]
  },
  {
   "cell_type": "markdown",
   "metadata": {},
   "source": [
    "**Side note**: We use self.register_buffer() to create a buffer that is not a learnable parameter. The call in \\_\\_init\\_\\_() registers *positions* as a buffer, meaning:\n",
    "- It persists in the model but is not a learnable parameter.\n",
    "- It moves automatically with the model (e.g., to GPU).\n",
    "- It is saved and loaded with state_dict()."
   ]
  },
  {
   "cell_type": "code",
   "execution_count": 4,
   "metadata": {},
   "outputs": [
    {
     "data": {
      "text/plain": [
       "tensor([[[0.2000, 0.4000, 0.1000, 0.3000],\n",
       "         [0.5000, 0.2000, 0.7000, 0.9000],\n",
       "         [0.8000, 0.6000, 0.4000, 0.2000]]])"
      ]
     },
     "execution_count": 4,
     "metadata": {},
     "output_type": "execute_result"
    }
   ],
   "source": [
    "dummy_input = torch.tensor(\n",
    "    [[[0.2, 0.4, 0.1, 0.3],\n",
    "      [0.5, 0.2, 0.7, 0.9],\n",
    "      [0.8, 0.6, 0.4, 0.2]]]\n",
    ")\n",
    "dummy_input"
   ]
  },
  {
   "cell_type": "code",
   "execution_count": 6,
   "metadata": {},
   "outputs": [],
   "source": [
    "# create the positional encoding\n",
    "\n",
    "d_model = dummy_input.shape[2]  # Embedding dimension (4)\n",
    "seq_len = dummy_input.shape[1]  # Length of sequence (3)\n",
    "\n",
    "pos_encoder = LearnablePositionalEncoding(d_model)"
   ]
  },
  {
   "cell_type": "code",
   "execution_count": 8,
   "metadata": {},
   "outputs": [
    {
     "name": "stdout",
     "output_type": "stream",
     "text": [
      "Learnable Positional Encoding with Dropout (seq_len=3, d_model=4):\n",
      "tensor([[[ 0.5879, -0.1287, -0.4993,  2.0910],\n",
      "         [ 2.4000,  2.2207,  1.0777, -0.7921],\n",
      "         [ 2.0809,  0.7444, -1.3603, -0.6124]]], grad_fn=<MulBackward0>)\n"
     ]
    }
   ],
   "source": [
    "output = pos_encoder(dummy_input)\n",
    "\n",
    "print(f\"Learnable Positional Encoding with Dropout (seq_len={seq_len}, d_model={d_model}):\")\n",
    "print(output)"
   ]
  },
  {
   "cell_type": "code",
   "execution_count": null,
   "metadata": {},
   "outputs": [],
   "source": []
  }
 ],
 "metadata": {
  "kernelspec": {
   "display_name": "Python 3",
   "language": "python",
   "name": "python3"
  },
  "language_info": {
   "codemirror_mode": {
    "name": "ipython",
    "version": 3
   },
   "file_extension": ".py",
   "mimetype": "text/x-python",
   "name": "python",
   "nbconvert_exporter": "python",
   "pygments_lexer": "ipython3",
   "version": "3.11.11"
  }
 },
 "nbformat": 4,
 "nbformat_minor": 2
}
